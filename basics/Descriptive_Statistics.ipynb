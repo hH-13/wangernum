{
  "nbformat": 4,
  "nbformat_minor": 0,
  "metadata": {
    "colab": {
      "provenance": []
    },
    "kernelspec": {
      "name": "python3",
      "display_name": "Python 3"
    }
  },
  "cells": [
    {
      "cell_type": "markdown",
      "metadata": {
        "id": "Wh_xNuaB3FDF"
      },
      "source": [
        "**Dictionary definition :** Statistics is the science that deals with the collection, tabulation, and systematic classification of quantitative data, especially as a basis for inference and induction.\n",
        "\n",
        "**Easier definition :**  Statistics is a way to convert numbers into useful information so that good decisions can be made.\n",
        "\n",
        "The term **inference** refers to a key concept in statistics in which we draw a conclusion from available evidence.\n",
        "\n",
        "The purpose of **descriptive statistics** is to summarize or display data so we can quickly obtain an overview. \n",
        "\n",
        "**Inferential statistics** allows us to make claims or conclusions about a population based on a sample of data from that population. \n",
        "\n",
        "A **population** represents all possible outcomes or measurements of interest. A sample is a subset of a population.\n"
      ]
    },
    {
      "cell_type": "markdown",
      "metadata": {
        "id": "opm9Kzyjs5LA"
      },
      "source": [
        "**Use the Titanic dataset part of Seaborn package**"
      ]
    },
    {
      "cell_type": "code",
      "metadata": {
        "id": "Jh4AqGefsy_4",
        "colab": {
          "base_uri": "https://localhost:8080/",
          "height": 605
        },
        "outputId": "1376fefb-c188-4b98-bcc7-afb7d8e6f48a"
      },
      "source": [
        "from matplotlib import pyplot as plt\n",
        "import seaborn as sb\n",
        "\n",
        "df = sb.load_dataset('titanic')\n",
        "print(df.info())\n",
        "df.head()"
      ],
      "execution_count": 2,
      "outputs": [
        {
          "output_type": "stream",
          "name": "stdout",
          "text": [
            "<class 'pandas.core.frame.DataFrame'>\n",
            "RangeIndex: 891 entries, 0 to 890\n",
            "Data columns (total 15 columns):\n",
            " #   Column       Non-Null Count  Dtype   \n",
            "---  ------       --------------  -----   \n",
            " 0   survived     891 non-null    int64   \n",
            " 1   pclass       891 non-null    int64   \n",
            " 2   sex          891 non-null    object  \n",
            " 3   age          714 non-null    float64 \n",
            " 4   sibsp        891 non-null    int64   \n",
            " 5   parch        891 non-null    int64   \n",
            " 6   fare         891 non-null    float64 \n",
            " 7   embarked     889 non-null    object  \n",
            " 8   class        891 non-null    category\n",
            " 9   who          891 non-null    object  \n",
            " 10  adult_male   891 non-null    bool    \n",
            " 11  deck         203 non-null    category\n",
            " 12  embark_town  889 non-null    object  \n",
            " 13  alive        891 non-null    object  \n",
            " 14  alone        891 non-null    bool    \n",
            "dtypes: bool(2), category(2), float64(2), int64(4), object(5)\n",
            "memory usage: 80.7+ KB\n",
            "None\n"
          ]
        },
        {
          "output_type": "execute_result",
          "data": {
            "text/plain": [
              "   survived  pclass     sex   age  sibsp  parch     fare embarked  class  \\\n",
              "0         0       3    male  22.0      1      0   7.2500        S  Third   \n",
              "1         1       1  female  38.0      1      0  71.2833        C  First   \n",
              "2         1       3  female  26.0      0      0   7.9250        S  Third   \n",
              "3         1       1  female  35.0      1      0  53.1000        S  First   \n",
              "4         0       3    male  35.0      0      0   8.0500        S  Third   \n",
              "\n",
              "     who  adult_male deck  embark_town alive  alone  \n",
              "0    man        True  NaN  Southampton    no  False  \n",
              "1  woman       False    C    Cherbourg   yes  False  \n",
              "2  woman       False  NaN  Southampton   yes   True  \n",
              "3  woman       False    C  Southampton   yes  False  \n",
              "4    man        True  NaN  Southampton    no   True  "
            ],
            "text/html": [
              "\n",
              "  <div id=\"df-63371e5d-9aed-4272-a5bc-60b94a28511a\">\n",
              "    <div class=\"colab-df-container\">\n",
              "      <div>\n",
              "<style scoped>\n",
              "    .dataframe tbody tr th:only-of-type {\n",
              "        vertical-align: middle;\n",
              "    }\n",
              "\n",
              "    .dataframe tbody tr th {\n",
              "        vertical-align: top;\n",
              "    }\n",
              "\n",
              "    .dataframe thead th {\n",
              "        text-align: right;\n",
              "    }\n",
              "</style>\n",
              "<table border=\"1\" class=\"dataframe\">\n",
              "  <thead>\n",
              "    <tr style=\"text-align: right;\">\n",
              "      <th></th>\n",
              "      <th>survived</th>\n",
              "      <th>pclass</th>\n",
              "      <th>sex</th>\n",
              "      <th>age</th>\n",
              "      <th>sibsp</th>\n",
              "      <th>parch</th>\n",
              "      <th>fare</th>\n",
              "      <th>embarked</th>\n",
              "      <th>class</th>\n",
              "      <th>who</th>\n",
              "      <th>adult_male</th>\n",
              "      <th>deck</th>\n",
              "      <th>embark_town</th>\n",
              "      <th>alive</th>\n",
              "      <th>alone</th>\n",
              "    </tr>\n",
              "  </thead>\n",
              "  <tbody>\n",
              "    <tr>\n",
              "      <th>0</th>\n",
              "      <td>0</td>\n",
              "      <td>3</td>\n",
              "      <td>male</td>\n",
              "      <td>22.0</td>\n",
              "      <td>1</td>\n",
              "      <td>0</td>\n",
              "      <td>7.2500</td>\n",
              "      <td>S</td>\n",
              "      <td>Third</td>\n",
              "      <td>man</td>\n",
              "      <td>True</td>\n",
              "      <td>NaN</td>\n",
              "      <td>Southampton</td>\n",
              "      <td>no</td>\n",
              "      <td>False</td>\n",
              "    </tr>\n",
              "    <tr>\n",
              "      <th>1</th>\n",
              "      <td>1</td>\n",
              "      <td>1</td>\n",
              "      <td>female</td>\n",
              "      <td>38.0</td>\n",
              "      <td>1</td>\n",
              "      <td>0</td>\n",
              "      <td>71.2833</td>\n",
              "      <td>C</td>\n",
              "      <td>First</td>\n",
              "      <td>woman</td>\n",
              "      <td>False</td>\n",
              "      <td>C</td>\n",
              "      <td>Cherbourg</td>\n",
              "      <td>yes</td>\n",
              "      <td>False</td>\n",
              "    </tr>\n",
              "    <tr>\n",
              "      <th>2</th>\n",
              "      <td>1</td>\n",
              "      <td>3</td>\n",
              "      <td>female</td>\n",
              "      <td>26.0</td>\n",
              "      <td>0</td>\n",
              "      <td>0</td>\n",
              "      <td>7.9250</td>\n",
              "      <td>S</td>\n",
              "      <td>Third</td>\n",
              "      <td>woman</td>\n",
              "      <td>False</td>\n",
              "      <td>NaN</td>\n",
              "      <td>Southampton</td>\n",
              "      <td>yes</td>\n",
              "      <td>True</td>\n",
              "    </tr>\n",
              "    <tr>\n",
              "      <th>3</th>\n",
              "      <td>1</td>\n",
              "      <td>1</td>\n",
              "      <td>female</td>\n",
              "      <td>35.0</td>\n",
              "      <td>1</td>\n",
              "      <td>0</td>\n",
              "      <td>53.1000</td>\n",
              "      <td>S</td>\n",
              "      <td>First</td>\n",
              "      <td>woman</td>\n",
              "      <td>False</td>\n",
              "      <td>C</td>\n",
              "      <td>Southampton</td>\n",
              "      <td>yes</td>\n",
              "      <td>False</td>\n",
              "    </tr>\n",
              "    <tr>\n",
              "      <th>4</th>\n",
              "      <td>0</td>\n",
              "      <td>3</td>\n",
              "      <td>male</td>\n",
              "      <td>35.0</td>\n",
              "      <td>0</td>\n",
              "      <td>0</td>\n",
              "      <td>8.0500</td>\n",
              "      <td>S</td>\n",
              "      <td>Third</td>\n",
              "      <td>man</td>\n",
              "      <td>True</td>\n",
              "      <td>NaN</td>\n",
              "      <td>Southampton</td>\n",
              "      <td>no</td>\n",
              "      <td>True</td>\n",
              "    </tr>\n",
              "  </tbody>\n",
              "</table>\n",
              "</div>\n",
              "      <button class=\"colab-df-convert\" onclick=\"convertToInteractive('df-63371e5d-9aed-4272-a5bc-60b94a28511a')\"\n",
              "              title=\"Convert this dataframe to an interactive table.\"\n",
              "              style=\"display:none;\">\n",
              "        \n",
              "  <svg xmlns=\"http://www.w3.org/2000/svg\" height=\"24px\"viewBox=\"0 0 24 24\"\n",
              "       width=\"24px\">\n",
              "    <path d=\"M0 0h24v24H0V0z\" fill=\"none\"/>\n",
              "    <path d=\"M18.56 5.44l.94 2.06.94-2.06 2.06-.94-2.06-.94-.94-2.06-.94 2.06-2.06.94zm-11 1L8.5 8.5l.94-2.06 2.06-.94-2.06-.94L8.5 2.5l-.94 2.06-2.06.94zm10 10l.94 2.06.94-2.06 2.06-.94-2.06-.94-.94-2.06-.94 2.06-2.06.94z\"/><path d=\"M17.41 7.96l-1.37-1.37c-.4-.4-.92-.59-1.43-.59-.52 0-1.04.2-1.43.59L10.3 9.45l-7.72 7.72c-.78.78-.78 2.05 0 2.83L4 21.41c.39.39.9.59 1.41.59.51 0 1.02-.2 1.41-.59l7.78-7.78 2.81-2.81c.8-.78.8-2.07 0-2.86zM5.41 20L4 18.59l7.72-7.72 1.47 1.35L5.41 20z\"/>\n",
              "  </svg>\n",
              "      </button>\n",
              "      \n",
              "  <style>\n",
              "    .colab-df-container {\n",
              "      display:flex;\n",
              "      flex-wrap:wrap;\n",
              "      gap: 12px;\n",
              "    }\n",
              "\n",
              "    .colab-df-convert {\n",
              "      background-color: #E8F0FE;\n",
              "      border: none;\n",
              "      border-radius: 50%;\n",
              "      cursor: pointer;\n",
              "      display: none;\n",
              "      fill: #1967D2;\n",
              "      height: 32px;\n",
              "      padding: 0 0 0 0;\n",
              "      width: 32px;\n",
              "    }\n",
              "\n",
              "    .colab-df-convert:hover {\n",
              "      background-color: #E2EBFA;\n",
              "      box-shadow: 0px 1px 2px rgba(60, 64, 67, 0.3), 0px 1px 3px 1px rgba(60, 64, 67, 0.15);\n",
              "      fill: #174EA6;\n",
              "    }\n",
              "\n",
              "    [theme=dark] .colab-df-convert {\n",
              "      background-color: #3B4455;\n",
              "      fill: #D2E3FC;\n",
              "    }\n",
              "\n",
              "    [theme=dark] .colab-df-convert:hover {\n",
              "      background-color: #434B5C;\n",
              "      box-shadow: 0px 1px 3px 1px rgba(0, 0, 0, 0.15);\n",
              "      filter: drop-shadow(0px 1px 2px rgba(0, 0, 0, 0.3));\n",
              "      fill: #FFFFFF;\n",
              "    }\n",
              "  </style>\n",
              "\n",
              "      <script>\n",
              "        const buttonEl =\n",
              "          document.querySelector('#df-63371e5d-9aed-4272-a5bc-60b94a28511a button.colab-df-convert');\n",
              "        buttonEl.style.display =\n",
              "          google.colab.kernel.accessAllowed ? 'block' : 'none';\n",
              "\n",
              "        async function convertToInteractive(key) {\n",
              "          const element = document.querySelector('#df-63371e5d-9aed-4272-a5bc-60b94a28511a');\n",
              "          const dataTable =\n",
              "            await google.colab.kernel.invokeFunction('convertToInteractive',\n",
              "                                                     [key], {});\n",
              "          if (!dataTable) return;\n",
              "\n",
              "          const docLinkHtml = 'Like what you see? Visit the ' +\n",
              "            '<a target=\"_blank\" href=https://colab.research.google.com/notebooks/data_table.ipynb>data table notebook</a>'\n",
              "            + ' to learn more about interactive tables.';\n",
              "          element.innerHTML = '';\n",
              "          dataTable['output_type'] = 'display_data';\n",
              "          await google.colab.output.renderOutput(dataTable, element);\n",
              "          const docLink = document.createElement('div');\n",
              "          docLink.innerHTML = docLinkHtml;\n",
              "          element.appendChild(docLink);\n",
              "        }\n",
              "      </script>\n",
              "    </div>\n",
              "  </div>\n",
              "  "
            ]
          },
          "metadata": {},
          "execution_count": 2
        }
      ]
    },
    {
      "cell_type": "markdown",
      "metadata": {
        "id": "hvAeUzdX327D"
      },
      "source": [
        "**Quantitative data** uses numerical values to describe something of interest.  \n",
        "\n",
        "**Qualitative data** uses descriptive terms to measure or classify something of interest\n",
        "\n",
        "\n",
        "A **nominal level** of measurement deals strictly with qualitative data. Observations are simply assigned to predetermined categories. One example is gender of the respondent, with the categories being male and female.\n",
        "\n",
        "**Ordinal** is the next level up. It has all the properties of nominal data with the added feature that we can rank-order the values from highest to lowest.\n",
        "\n",
        "**Interval level** is strictly quantitative data. Now we can get to work with the mathematical operations of addition and subtraction when comparing values.  However, multiplication and division can’t be performed on this data. Temperature measurement in degrees is a good example.  We cannot argue that 100 degrees is twice as warm as 50.\n",
        "\n",
        "We can perform all four mathematical operations on **ratio level** data. Examples of this type of data are age, weight, height, and salary.  Ratio data has all the features of interval data with the added benefit of a true 0 point. \n"
      ]
    },
    {
      "cell_type": "markdown",
      "metadata": {
        "id": "9hyEk6qB4Zn7"
      },
      "source": [
        "\n",
        "\n",
        "---\n",
        "\n"
      ]
    },
    {
      "cell_type": "markdown",
      "metadata": {
        "id": "F0DT64lH4dYQ"
      },
      "source": [
        "There exist two broad categories of descriptive statistics that are commonly used. \n",
        "\n",
        "**Measures of central tendency** describe the centre point of a data set with a single value. \n",
        "\n",
        "**Measures of dispersion** describe how far individual data values have strayed from the centre point .\n",
        "\n",
        "The most common measure of central tendency is the **mean** or average, which we calculate by adding all the values in our data set and then dividing this result by the number of observations.\n"
      ]
    },
    {
      "cell_type": "markdown",
      "metadata": {
        "id": "FJFKaMhA40P4"
      },
      "source": [
        "\n",
        "\n",
        "---\n",
        "\n"
      ]
    },
    {
      "cell_type": "markdown",
      "metadata": {
        "id": "oWEz3zdS42jH"
      },
      "source": [
        "The **median** is the value in the data set for which half the observations are higher and half the observations are lower. We find the median by arranging the data values in ascending order and identifying the halfway point.\n",
        "\n",
        "The last measure of central tendency is the **mode**, which is simply the observation in the data set that occurs the most frequently.\n",
        "\n",
        "When to use what?\n",
        "\n",
        "* If you think all the data in your data set is relevant, then the mean is your best choice. This measurement is affected by both the number and magnitude of your values. However, very small or very large values can have a significant impact on the mean, especially if the size of the sample is small. \n",
        "\n",
        "* If this is a concern, perhaps you should consider using the median. The median is not as sensitive to a very large or small value.\n",
        "\n",
        "* Mode has limited applications. It is primarily used to describe data at the nominal scale—that is, data that is grouped in descriptive categories such as gender.\n"
      ]
    },
    {
      "cell_type": "code",
      "metadata": {
        "id": "C38foCSfkQXn",
        "colab": {
          "base_uri": "https://localhost:8080/"
        },
        "outputId": "b3423ae6-e645-4860-e594-074561b9db20"
      },
      "source": [
        "import statistics as st\n",
        "\n",
        "print(st.mode(df['sex']))\n",
        "print(st.mean(df['fare']))\n",
        "print(st.median(df['fare']))\n"
      ],
      "execution_count": 3,
      "outputs": [
        {
          "output_type": "stream",
          "name": "stdout",
          "text": [
            "male\n",
            "32.204207968574636\n",
            "14.4542\n"
          ]
        }
      ]
    },
    {
      "cell_type": "markdown",
      "metadata": {
        "id": "3H1-3e5z5NeO"
      },
      "source": [
        "**Measures of dispersion**\n",
        "\n",
        "The **range** is the simplest measure of dispersion and is calculated by finding the difference between the highest value and the lowest value in the data set.\n",
        "\n",
        "The range is a quick way to get a feel for the spread of the data set.  However, the limitation is that it only relies on two data points to describe the variation in the sample.\n",
        "\n",
        "The **variance** is a measure of dispersion that describes the relative distance between the data points in the set and the mean of the data set. This measure is widely used in inferential statistics.  \n",
        "\n",
        "A **standard deviation** is the square root of a variance.\n"
      ]
    },
    {
      "cell_type": "code",
      "metadata": {
        "id": "BCjOy68vkg9z",
        "colab": {
          "base_uri": "https://localhost:8080/"
        },
        "outputId": "c249d46a-74d3-4377-e5d1-a8875153171f"
      },
      "source": [
        "print(st.stdev(df['fare']))\n",
        "print(st.variance(df['fare']))"
      ],
      "execution_count": 4,
      "outputs": [
        {
          "output_type": "stream",
          "name": "stdout",
          "text": [
            "49.6934285971809\n",
            "2469.4368457431165\n"
          ]
        }
      ]
    },
    {
      "cell_type": "code",
      "metadata": {
        "id": "D0QScE44mHts",
        "colab": {
          "base_uri": "https://localhost:8080/",
          "height": 351
        },
        "outputId": "ba908bb3-abad-4f60-fa7b-f2bf6377de7a"
      },
      "source": [
        "# view the fare distribution\n",
        "sb.distplot(df['fare'], bins=10)"
      ],
      "execution_count": 5,
      "outputs": [
        {
          "output_type": "stream",
          "name": "stderr",
          "text": [
            "/usr/local/lib/python3.8/dist-packages/seaborn/distributions.py:2619: FutureWarning: `distplot` is a deprecated function and will be removed in a future version. Please adapt your code to use either `displot` (a figure-level function with similar flexibility) or `histplot` (an axes-level function for histograms).\n",
            "  warnings.warn(msg, FutureWarning)\n"
          ]
        },
        {
          "output_type": "execute_result",
          "data": {
            "text/plain": [
              "<matplotlib.axes._subplots.AxesSubplot at 0x7f68502c1d00>"
            ]
          },
          "metadata": {},
          "execution_count": 5
        },
        {
          "output_type": "display_data",
          "data": {
            "text/plain": [
              "<Figure size 432x288 with 1 Axes>"
            ],
            "image/png": "[encoded data removed]"
          },
          "metadata": {
            "needs_background": "light"
          }
        }
      ]
    },
    {
      "cell_type": "markdown",
      "metadata": {
        "id": "aRNEfePC7C8M"
      },
      "source": [
        "**Measures of Relative position**\n",
        "\n",
        "* Another way of looking at dispersion of data is through measures of relative position, which describe the percentage of the data below a certain point. This technique includes quartile and interquartile measurements.\n",
        "\n",
        "* Quartiles measure the relative position of the data values by dividing the data set into four equal segments.\n",
        "\n",
        "* When you have established the quartiles, you can easily calculate the interquartile range (IQR); the IQR measures the spread of the centre half of our data set. It is simply the difference between the third and first quartiles,\n",
        "\n",
        "* The interquartile range is used to identify outliers, which are the “black sheep” of our data set. These are extreme values whose accuracy is questioned and can cause unwanted distortions in statistical results\n"
      ]
    },
    {
      "cell_type": "code",
      "metadata": {
        "id": "1XBL_ryZmhvf",
        "colab": {
          "base_uri": "https://localhost:8080/"
        },
        "outputId": "4a56b2fa-f43a-4340-9af1-3c8713467a08"
      },
      "source": [
        "# Viw the distribution by percentiles\n",
        "import numpy as np\n",
        "print(np.percentile(df['fare'],25))\n",
        "print(np.percentile(df['fare'],50))\n",
        "print(np.percentile(df['fare'],75))\n",
        "print(np.percentile(df['fare'],99))"
      ],
      "execution_count": 8,
      "outputs": [
        {
          "output_type": "stream",
          "name": "stdout",
          "text": [
            "7.9104\n",
            "14.4542\n",
            "31.0\n",
            "249.00622000000035\n"
          ]
        }
      ]
    },
    {
      "cell_type": "code",
      "metadata": {
        "id": "F8OvHXrLnrjc",
        "colab": {
          "base_uri": "https://localhost:8080/"
        },
        "outputId": "ac8ebd51-a292-4264-897c-2a857ac28135"
      },
      "source": [
        "# View IQR for fare\n",
        "iqr=np.percentile(df['fare'],75)-np.percentile(df['fare'],25)\n",
        "print(iqr)"
      ],
      "execution_count": 9,
      "outputs": [
        {
          "output_type": "stream",
          "name": "stdout",
          "text": [
            "23.0896\n"
          ]
        }
      ]
    },
    {
      "cell_type": "code",
      "metadata": {
        "id": "TTdu7_toohMB",
        "colab": {
          "base_uri": "https://localhost:8080/",
          "height": 252
        },
        "outputId": "04100562-ffd7-45d6-c979-1b0026a8d5ee"
      },
      "source": [
        "# View box plot for fare \n",
        "sb.boxplot(y = \"fare\", data = df)\n",
        "plt.show()"
      ],
      "execution_count": 10,
      "outputs": [
        {
          "output_type": "display_data",
          "data": {
            "text/plain": [
              "<Figure size 432x288 with 1 Axes>"
            ],
            "image/png": "[encoded data removed]"
          },
          "metadata": {
            "needs_background": "light"
          }
        }
      ]
    },
    {
      "cell_type": "code",
      "metadata": {
        "id": "A22iXBK4nRHT",
        "colab": {
          "base_uri": "https://localhost:8080/",
          "height": 279
        },
        "outputId": "d381b6e0-3a78-42df-fde9-e4fa906b4b24"
      },
      "source": [
        "# View box plot for fare for each class\n",
        "sb.boxplot(x = \"pclass\", y = \"fare\", data = df)\n",
        "plt.show()"
      ],
      "execution_count": null,
      "outputs": [
        {
          "output_type": "display_data",
          "data": {
            "image/png": "[encoded data removed]",
            "text/plain": [
              "<Figure size 432x288 with 1 Axes>"
            ]
          },
          "metadata": {
            "tags": []
          }
        }
      ]
    },
    {
      "cell_type": "markdown",
      "metadata": {
        "id": "VMycJfw96NvB"
      },
      "source": [
        "**Skewness**:\n",
        "* It is the degree of distortion from the symmetrical bell curve or the normal distribution. It measures the lack of symmetry in data distribution.\n",
        "\n",
        "* Positive Skewness means when the tail on the right side of the distribution is longer or fatter. \n",
        "\n",
        "* Negative Skewness is when the tail of the left side of the distribution is longer or fatter than the tail on the right side. \n",
        "\n",
        "**Kurtosis**: \n",
        "* It is a statistical measure that defines how heavily the tails of a distribution differ from the tails of a normal distribution. In other words, kurtosis identifies whether the tails of a given distribution contain extreme values.\n",
        "\n",
        "* High kurtosis in a data set is an indicator that data has heavy tails or outliers.  - Black\n",
        "\n",
        "* Low kurtosis in a data set is an indicator that data has light tails or lack of outliers. - Green\n"
      ]
    },
    {
      "cell_type": "code",
      "metadata": {
        "id": "DJeYNDkSpEhw",
        "colab": {
          "base_uri": "https://localhost:8080/"
        },
        "outputId": "294ee3b7-aaa7-4be5-b3a4-b9d62dec64c4"
      },
      "source": [
        "# Skewness\n",
        "from scipy.stats import skew\n",
        "print( 'skewness of normal distribution (should be 0): {}'.format( skew(df['fare']) ))\n"
      ],
      "execution_count": 11,
      "outputs": [
        {
          "output_type": "stream",
          "name": "stdout",
          "text": [
            "skewness of normal distribution (should be 0): 4.7792532923723545\n"
          ]
        }
      ]
    },
    {
      "cell_type": "code",
      "metadata": {
        "id": "vyTod3UmpI-K",
        "colab": {
          "base_uri": "https://localhost:8080/"
        },
        "outputId": "da08602b-2d7d-47c8-a149-b55d67b3b09c"
      },
      "source": [
        "# Kurtosis\n",
        "from scipy.stats import kurtosis\n",
        "print( 'kurtosis of normal distribution (should be 3): {}'.format( kurtosis(df['fare']) ))\n"
      ],
      "execution_count": 12,
      "outputs": [
        {
          "output_type": "stream",
          "name": "stdout",
          "text": [
            "kurtosis of normal distribution (should be 3): 33.20428925264474\n"
          ]
        }
      ]
    },
    {
      "cell_type": "markdown",
      "metadata": {
        "id": "mh_9FmlW5pdk"
      },
      "source": [
        "**Empirical Rule:**\n",
        "The values of many large data sets tend to cluster around the mean or median so that the data distribution in the histogram resembles a bell-shape, symmetrical curve.\n",
        "\n",
        "\n",
        "**Central Limit Theorem:**\n",
        "\n",
        "* The Central Limit Theorem, or CLT for short, is an important finding and pillar in the fields of statistics and probability.\n",
        "\n",
        "* The finding is critically important for making inferences in applied machine learning.\n",
        "\n",
        "* The theorem states that as the size of the sample increases, the distribution of the mean across multiple samples will approximate a Gaussian or Normal distribution.\n",
        "\n",
        "* The central limit theorem is impressive, especially as this will occur no matter the shape of the population distribution from which we are drawing samples.\n",
        "\n",
        "* In order to make inferences about the skill of a model compared to the skill of another model, we must use tools such as statistical significance tests.  CLT is the basis for this\n"
      ]
    },
    {
      "cell_type": "code",
      "metadata": {
        "id": "7eRrD-bIrtYs",
        "colab": {
          "base_uri": "https://localhost:8080/",
          "height": 316
        },
        "outputId": "5496402a-d96b-463b-809b-123e5ecaa48c"
      },
      "source": [
        "#Central Limit Theorem\n",
        "\n",
        "# generate random dice rolls and view the mean\n",
        "from numpy.random import seed\n",
        "from numpy.random import randint\n",
        "from numpy import mean\n",
        "from matplotlib import pyplot\n",
        "# seed the random number generator\n",
        "seed(1)\n",
        "# generate a sample of 50 die rolls and note the mean - This is one experiment\n",
        "rolls = randint(1, 7, 50) # try with 500 and 5000 also\n",
        "print(rolls)\n",
        "print(mean(rolls))\n",
        "\n",
        "pyplot.hist(rolls)\n",
        "pyplot.show()"
      ],
      "execution_count": null,
      "outputs": [
        {
          "output_type": "stream",
          "text": [
            "[6 4 5 1 2 4 6 1 1 2 5 6 5 2 3 5 6 3 5 4 5 3 5 6 3 5 2 2 1 6 2 2 6 2 2 1 5\n",
            " 2 1 1 6 4 3 2 1 4 6 2 2 4]\n",
            "3.44\n"
          ],
          "name": "stdout"
        },
        {
          "output_type": "display_data",
          "data": {
            "image/png": "[encoded data removed]",
            "text/plain": [
              "<Figure size 432x288 with 1 Axes>"
            ]
          },
          "metadata": {
            "needs_background": "light"
          }
        }
      ]
    },
    {
      "cell_type": "code",
      "metadata": {
        "id": "HRlOALyBsnkE",
        "colab": {
          "base_uri": "https://localhost:8080/",
          "height": 306
        },
        "outputId": "39490bcc-583a-475c-f5a9-96ec9644baf2"
      },
      "source": [
        "# Create 1000 means and see the distribution\n",
        "from numpy.random import seed\n",
        "from numpy.random import randint\n",
        "from numpy import mean\n",
        "from matplotlib import pyplot\n",
        "\n",
        "# seed the random number generator\n",
        "seed(1)\n",
        "# calculate the mean of 50 dice rolls 1000 times\n",
        "means = [mean(randint(1, 7, 50)) for x in range(1000)]\n",
        "# plot the distribution of sample means\n",
        "print(means)\n",
        "pyplot.hist(means)\n",
        "pyplot.show()"
      ],
      "execution_count": null,
      "outputs": [
        {
          "output_type": "stream",
          "text": [
            "[3.44, 3.32, 3.44, 3.62, 3.68, 3.24, 3.84, 3.36, 3.36, 3.4, 3.76, 3.9, 3.46, 3.52, 2.98, 3.62, 3.36, 3.5, 3.34, 3.66, 3.58, 3.84, 3.76, 3.52, 3.52, 3.34, 3.18, 3.58, 3.64, 3.46, 3.38, 3.34, 2.9, 3.86, 3.58, 3.34, 3.68, 3.44, 3.88, 3.18, 3.68, 3.24, 3.36, 3.66, 3.72, 3.72, 3.34, 3.54, 3.64, 3.06, 3.48, 3.48, 3.46, 3.52, 3.48, 3.54, 3.56, 3.32, 3.06, 3.84, 3.64, 3.44, 3.08, 3.92, 3.12, 3.6, 3.46, 3.8, 3.38, 3.72, 3.1, 3.5, 3.38, 3.52, 3.16, 3.98, 3.92, 3.84, 3.8, 3.72, 3.62, 3.72, 3.72, 3.54, 3.92, 2.88, 3.32, 3.56, 3.44, 3.86, 3.56, 3.56, 3.6, 3.1, 3.76, 3.68, 3.48, 3.26, 3.6, 3.52, 3.94, 3.5, 3.74, 3.62, 3.64, 3.24, 3.88, 3.66, 3.54, 3.44, 3.62, 3.78, 3.36, 3.2, 3.74, 3.54, 3.62, 4.02, 3.86, 3.64, 3.62, 3.86, 4.08, 3.04, 3.52, 3.82, 3.44, 3.66, 3.5, 3.48, 3.46, 3.68, 3.64, 3.48, 3.9, 3.7, 3.48, 3.38, 3.32, 3.68, 3.22, 3.96, 3.6, 3.6, 3.48, 3.04, 3.8, 3.12, 3.46, 3.94, 3.5, 3.7, 3.5, 3.22, 3.44, 3.24, 3.62, 3.74, 3.3, 3.54, 3.72, 3.44, 3.42, 3.44, 3.62, 3.26, 3.3, 3.56, 3.3, 3.82, 3.22, 3.34, 3.54, 3.32, 3.7, 3.16, 3.14, 3.66, 3.5, 3.72, 3.56, 3.38, 3.16, 3.6, 3.72, 3.48, 3.06, 3.5, 3.16, 3.68, 3.64, 3.74, 3.92, 3.7, 3.74, 3.2, 3.42, 3.68, 3.34, 3.56, 3.26, 2.92, 3.66, 3.76, 3.94, 3.3, 3.26, 3.46, 3.28, 3.46, 3.22, 3.7, 3.26, 3.16, 3.28, 3.64, 3.44, 3.48, 3.42, 3.7, 3.6, 3.62, 3.44, 3.52, 3.28, 3.34, 3.9, 3.24, 3.62, 3.56, 3.5, 3.76, 3.9, 3.32, 3.44, 3.36, 3.34, 3.3, 3.68, 3.52, 3.58, 3.42, 3.56, 3.58, 3.32, 3.48, 3.84, 3.34, 3.78, 2.94, 3.84, 3.7, 3.18, 3.56, 3.48, 3.72, 3.2, 3.48, 3.6, 3.48, 3.04, 3.5, 3.86, 3.72, 3.22, 2.86, 3.7, 3.26, 3.46, 2.96, 2.9, 3.5, 3.06, 3.6, 3.36, 3.4, 3.7, 3.36, 3.66, 3.24, 3.18, 3.54, 3.82, 3.62, 3.3, 3.52, 3.2, 3.4, 3.68, 3.6, 3.48, 3.58, 3.52, 3.6, 3.1, 3.6, 3.46, 3.5, 3.46, 3.24, 3.54, 3.58, 3.5, 3.66, 3.54, 3.56, 3.22, 3.28, 3.64, 3.2, 3.2, 3.7, 3.68, 3.58, 3.18, 3.2, 3.74, 3.3, 3.4, 3.12, 3.28, 2.94, 3.32, 3.44, 3.88, 3.32, 3.3, 3.44, 3.26, 3.42, 3.76, 3.14, 3.58, 3.46, 3.4, 3.72, 3.56, 3.6, 3.5, 3.46, 3.7, 3.16, 3.72, 3.42, 3.8, 3.46, 3.46, 3.96, 3.44, 3.74, 3.58, 3.2, 3.38, 3.68, 2.9, 3.26, 3.3, 3.58, 3.48, 3.58, 3.44, 3.3, 3.06, 3.56, 3.24, 3.36, 3.66, 3.12, 3.8, 3.22, 3.64, 3.62, 3.56, 4.08, 3.16, 3.56, 3.78, 3.7, 3.24, 3.34, 3.7, 3.36, 3.52, 3.58, 3.5, 3.46, 3.14, 3.92, 3.28, 3.66, 3.5, 3.62, 3.16, 3.26, 3.5, 3.58, 3.66, 3.52, 3.68, 3.84, 3.1, 3.52, 3.54, 3.6, 3.82, 3.56, 3.16, 3.42, 3.08, 3.56, 3.62, 3.98, 3.86, 3.64, 3.34, 3.14, 3.66, 3.7, 3.34, 3.36, 3.28, 3.5, 3.58, 3.72, 3.5, 3.94, 3.4, 3.34, 3.64, 3.84, 3.56, 3.9, 3.8, 3.18, 3.54, 3.26, 3.56, 3.56, 2.96, 4.0, 3.36, 3.48, 3.2, 3.42, 3.2, 3.2, 3.46, 3.04, 3.52, 3.98, 3.36, 3.28, 3.46, 3.14, 3.4, 3.38, 3.82, 3.52, 3.24, 3.56, 3.48, 3.78, 3.3, 3.38, 3.3, 3.54, 3.18, 3.14, 3.42, 3.2, 3.0, 3.72, 3.8, 3.74, 3.3, 3.84, 4.0, 3.46, 3.26, 3.54, 3.52, 3.32, 3.08, 3.7, 3.18, 3.46, 3.56, 3.42, 3.16, 3.84, 3.48, 3.22, 3.58, 3.78, 3.54, 3.7, 3.48, 3.6, 2.98, 2.82, 3.78, 3.5, 3.28, 3.62, 3.4, 3.2, 3.44, 3.62, 3.12, 3.92, 3.3, 3.76, 3.5, 3.4, 3.56, 3.48, 3.5, 3.36, 3.44, 3.82, 3.52, 4.04, 3.66, 3.52, 2.9, 4.04, 3.58, 3.46, 3.6, 3.76, 3.42, 3.5, 3.52, 3.88, 3.52, 3.5, 3.82, 3.72, 3.92, 3.26, 3.32, 3.54, 3.54, 3.6, 3.5, 3.26, 3.66, 3.06, 3.36, 3.42, 3.56, 3.68, 3.14, 3.76, 3.62, 3.56, 3.54, 3.58, 4.0, 3.82, 3.44, 3.4, 3.52, 3.24, 3.2, 3.56, 3.42, 3.62, 3.64, 3.76, 3.66, 3.54, 3.44, 3.54, 3.48, 3.82, 3.46, 2.94, 3.86, 3.4, 3.54, 3.4, 3.28, 3.26, 3.3, 3.8, 3.54, 3.34, 3.9, 3.38, 3.78, 3.58, 3.52, 3.44, 3.58, 3.42, 3.68, 3.34, 3.38, 3.36, 3.44, 3.16, 3.7, 3.68, 3.2, 3.54, 3.66, 3.86, 3.24, 3.5, 3.86, 3.38, 3.6, 3.46, 3.7, 3.6, 3.28, 3.48, 3.48, 3.14, 3.58, 3.82, 3.08, 4.02, 3.74, 3.26, 3.6, 3.56, 3.76, 3.44, 3.26, 3.88, 3.9, 3.5, 3.46, 3.34, 3.52, 3.6, 3.54, 3.38, 3.64, 3.68, 3.24, 3.32, 3.5, 3.9, 3.34, 3.68, 3.6, 3.74, 3.74, 3.38, 3.26, 3.44, 3.52, 3.5, 3.32, 3.52, 3.74, 3.2, 3.54, 3.64, 3.42, 3.52, 3.38, 3.52, 3.32, 3.36, 3.88, 3.42, 3.54, 3.2, 3.6, 3.58, 3.46, 3.52, 3.3, 3.36, 3.56, 3.54, 3.58, 3.38, 3.6, 3.64, 3.42, 3.88, 3.58, 3.48, 3.44, 3.56, 3.32, 3.5, 3.72, 3.56, 3.42, 3.64, 3.1, 3.54, 3.58, 3.42, 3.46, 3.58, 3.8, 3.22, 3.3, 3.64, 3.56, 3.3, 3.34, 3.78, 3.4, 3.08, 3.54, 3.56, 3.52, 3.46, 3.1, 3.84, 3.34, 3.12, 3.36, 3.68, 3.32, 3.74, 3.32, 3.74, 3.22, 3.02, 3.18, 3.44, 3.36, 3.5, 3.42, 3.48, 3.46, 3.7, 3.58, 3.58, 3.68, 3.6, 3.2, 3.84, 3.44, 3.66, 3.16, 3.42, 3.38, 3.86, 3.84, 3.92, 3.64, 3.74, 3.34, 3.7, 3.8, 3.66, 3.34, 3.5, 3.52, 3.14, 3.44, 3.58, 3.46, 3.84, 3.58, 3.9, 3.4, 3.32, 3.52, 3.38, 3.32, 3.54, 3.8, 3.16, 3.48, 3.24, 3.44, 3.22, 3.18, 3.34, 3.5, 3.74, 3.68, 3.56, 3.36, 3.42, 3.48, 3.42, 3.22, 3.52, 3.42, 3.62, 3.68, 4.0, 3.54, 3.1, 3.48, 3.16, 4.0, 3.68, 3.76, 3.3, 3.52, 3.64, 3.48, 3.54, 3.14, 3.14, 3.66, 3.34, 3.02, 3.34, 3.18, 3.24, 3.7, 3.24, 3.6, 3.12, 3.62, 3.64, 3.72, 3.62, 3.64, 3.46, 3.46, 3.3, 3.78, 3.0, 3.64, 3.92, 3.6, 3.4, 3.46, 3.66, 3.16, 3.36, 3.2, 3.16, 3.78, 3.22, 3.72, 3.32, 3.5, 3.76, 3.66, 2.92, 3.8, 3.66, 3.54, 3.76, 3.04, 3.62, 3.46, 3.34, 3.44, 3.32, 3.54, 3.22, 3.4, 3.5, 3.92, 3.92, 3.12, 3.4, 3.66, 3.76, 3.26, 3.64, 3.6, 3.5, 3.42, 4.06, 3.24, 3.5, 3.6, 3.94, 3.68, 3.4, 3.24, 3.64, 3.64, 3.52, 3.66, 3.58, 3.3, 3.14, 3.44, 3.64, 3.24, 3.36, 3.48, 3.48, 3.42, 3.38, 3.72, 3.52, 3.48, 3.46, 4.24, 3.46, 3.8, 4.04, 3.52, 3.44, 3.32, 2.94, 3.42, 3.74, 3.54, 3.2, 3.66, 3.3, 3.94, 3.36, 3.72, 3.32, 3.52, 3.7, 3.36, 3.34, 3.24, 3.12, 3.22, 3.6, 3.76, 3.94, 3.42, 3.5, 3.46, 3.42, 2.84, 3.5, 3.6, 3.56, 3.38, 3.62, 3.38, 4.02, 3.62, 3.82, 3.44, 3.56, 3.36, 3.58, 3.42, 3.28, 3.88, 3.44, 3.66, 3.44, 3.48, 3.64, 3.14, 3.3, 3.48, 3.7, 3.24, 3.08, 3.48, 3.28, 4.0, 3.24, 4.04, 3.5, 3.66, 3.6, 3.2, 3.54, 3.52, 3.68, 3.84, 3.38, 3.68, 3.84, 3.58, 3.36, 3.64, 3.66, 3.44, 3.64, 3.62, 3.42, 3.72, 3.36, 3.18, 3.76, 3.18, 3.76, 3.52, 3.88, 3.8, 3.06, 3.8, 3.58, 3.78, 3.64, 3.52, 3.32, 3.6, 3.7]\n"
          ],
          "name": "stdout"
        },
        {
          "output_type": "display_data",
          "data": {
            "image/png": "[encoded data removed]",
            "text/plain": [
              "<Figure size 432x288 with 1 Axes>"
            ]
          },
          "metadata": {
            "needs_background": "light"
          }
        }
      ]
    }
  ]
}