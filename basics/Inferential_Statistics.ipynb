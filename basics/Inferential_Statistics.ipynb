{
  "nbformat": 4,
  "nbformat_minor": 0,
  "metadata": {
    "colab": {
      "provenance": [],
      "include_colab_link": true
    },
    "kernelspec": {
      "name": "python3",
      "display_name": "Python 3"
    }
  },
  "cells": [
    {
      "cell_type": "markdown",
      "metadata": {
        "id": "view-in-github",
        "colab_type": "text"
      },
      "source": [
        "<a href=\"https://colab.research.google.com/github/hH-13/wangernum/blob/main/basics/Inferential_Statistics.ipynb\" target=\"_parent\"><img src=\"https://colab.research.google.com/assets/colab-badge.svg\" alt=\"Open In Colab\"/></a>"
      ]
    },
    {
      "cell_type": "markdown",
      "metadata": {
        "id": "icUydhKCDytP"
      },
      "source": [
        "**Permutations and Combinations**\n",
        "\n",
        "* Permutations are the number of different ways in which objects can be arranged in order. In a permutation, each item appears only once. The number of permutations of n distinct objects is n! (expressed as n factorial)\n",
        "\n",
        "* As an example, there are six permutations for the numbers 1, 2, and 3, as shown here:  123, 132, 213, 231, 312, 321\n",
        "\n",
        "* Combinations are similar to permutations, except that the order of the objects is not important.\n"
      ]
    },
    {
      "cell_type": "markdown",
      "metadata": {
        "id": "7Hs-IqUGD_rJ"
      },
      "source": [
        "Permutations"
      ]
    },
    {
      "cell_type": "code",
      "metadata": {
        "id": "WtJ41q5XD5Oq",
        "colab": {
          "base_uri": "https://localhost:8080/"
        },
        "outputId": "53a7a105-37bc-46f0-fb42-2dfeac3ad350"
      },
      "source": [
        "import math as mt\n",
        "# Before the beginning of a professional basketball game, the starting 5 players\n",
        "# are announced one at a time. How many different ways can we arrange the order\n",
        "# that the players are announced?\n",
        "\n",
        "print(mt.factorial(5))\n",
        "\n",
        "# Using our basketball example again, if there are 12 players on the team,\n",
        "# how many different ways can any 5 players on the team be announced to start the game?\n",
        "\n",
        "print(mt.factorial(12)/mt.factorial(12-5))"
      ],
      "execution_count": null,
      "outputs": [
        {
          "output_type": "stream",
          "name": "stdout",
          "text": [
            "120\n",
            "95040.0\n"
          ]
        }
      ]
    },
    {
      "cell_type": "markdown",
      "metadata": {
        "id": "v7yJbzddGBHW"
      },
      "source": [
        "Combinations"
      ]
    },
    {
      "cell_type": "code",
      "metadata": {
        "id": "-lev9EpMGDnx",
        "colab": {
          "base_uri": "https://localhost:8080/"
        },
        "outputId": "0ee3c587-b161-405c-eb5e-d44a8c52de9d"
      },
      "source": [
        "# Using our basketball example again, if there are 12 players on the team,\n",
        "# how many different ways can any 5 players on the team be announced to start the game? Order doesn't matter\n",
        "\n",
        "print(mt.factorial(12)/(mt.factorial(12-5)*mt.factorial(5)))"
      ],
      "execution_count": null,
      "outputs": [
        {
          "output_type": "stream",
          "name": "stdout",
          "text": [
            "792.0\n"
          ]
        }
      ]
    },
    {
      "cell_type": "markdown",
      "metadata": {
        "id": "tcrDh-ZH7yHc"
      },
      "source": [
        "The topic of probability acts as a critical link between descriptive and inferential statistics\n",
        "\n",
        "**Experiment**: The process of measuring or observing an activity for the purpose of collecting data. An example is rolling a pair of dice.\n",
        "Outcome: A particular result of an experiment. An example is rolling a pair of threes with the dice.\n",
        "\n",
        "**Sample space**: All the possible outcomes of the experiment. The sample space for our experiment is the numbers {2, 3, 4, 5, 6, 7, 8, 9, 10, 11, and 12}. Statistics people like to put {} around the sample space values.\n",
        "\n",
        "**Event**: One or more outcomes that are of interest for the experiment and which is/are a subset of the sample space. An example is rolling a total of 2, 3, 4, or 5 with two dice.\n"
      ]
    },
    {
      "cell_type": "markdown",
      "metadata": {
        "id": "9EcLzcyx1h1M"
      },
      "source": [
        "\n",
        "\n",
        "---\n",
        "\n"
      ]
    },
    {
      "cell_type": "markdown",
      "metadata": {
        "id": "eeQ9QDjx8DSh"
      },
      "source": [
        "“**Rules and regulations**” that govern probability theory:\n",
        "\n",
        "* If P[A] = 1, then Event A must occur with certainty.\n",
        "* If P[A] = 0, then Event A will not occur with certainty\n",
        "The probability of Event A must be between 0 and 1.\n",
        "\n",
        "* The sum of all the probabilities for the events in the sample space must be equal to 1. For example, if the experiment is flipping a coin with Event A = heads and Event B = tails, then A and B represent the entire sample space. We also know that P[A] + P[B] = 0.5 + 0.5 = 1.\n",
        "\n",
        "* The complement to Event A is defined as all the outcomes in the sample space that are not part of Event A and is denoted as A’. Using this definition, we can state the following: P[A] + P[A’] = 1 or P[A] = 1 – P[A’].\n"
      ]
    },
    {
      "cell_type": "code",
      "metadata": {
        "id": "Jk82H7_pKazT"
      },
      "source": [
        "# Create function that returns probability percent rounded to one decimal place\n",
        "def event_probability(event_outcomes, total_outcomes):\n",
        "    probability = (event_outcomes / total_outcomes) * 100\n",
        "    return round(probability, 1)\n",
        "\n",
        "# Sample Space\n",
        "cards = 52\n",
        "\n",
        "# Determine the probability of drawing a heart\n",
        "hearts = 13\n",
        "heart_probability = event_probability(hearts, cards)\n",
        "\n",
        "# Determine the probability of drawing a face card\n",
        "face_cards = 12\n",
        "face_card_probability = event_probability(face_cards, cards)\n",
        "\n",
        "# Determine the probability of drawing the queen of hearts\n",
        "queen_of_hearts = 1\n",
        "queen_of_hearts_probability = event_probability(queen_of_hearts, cards)"
      ],
      "execution_count": 2,
      "outputs": []
    },
    {
      "cell_type": "code",
      "metadata": {
        "id": "0D7OLSIx2JoL",
        "colab": {
          "base_uri": "https://localhost:8080/"
        },
        "outputId": "75fe4888-f1d3-4dd6-c463-8c48951b9743"
      },
      "source": [
        "# Print each probability\n",
        "print(f'{heart_probability=}%')\n",
        "print(f'{face_card_probability=}%')\n",
        "print(f'{queen_of_hearts_probability=}%')"
      ],
      "execution_count": 3,
      "outputs": [
        {
          "output_type": "stream",
          "name": "stdout",
          "text": [
            "heart_probability=25.0%\n",
            "face_card_probability=23.1%\n",
            "queen_of_hearts_probability=1.9%\n"
          ]
        }
      ]
    },
    {
      "cell_type": "markdown",
      "metadata": {
        "id": "5qZ7OMJi8jMa"
      },
      "source": [
        "**Conditional probability**"
      ]
    },
    {
      "cell_type": "markdown",
      "metadata": {
        "id": "8-ptkYa-DLdz"
      },
      "source": [
        "* Conditional probability is defined as the probability of Event A knowing that Event B has already occurred.\n",
        "\n",
        "* Conditional probabilities are also known as posterior probabilities.\n",
        "\n",
        "* Events A and B are independent of one another if:  P[A/B] = P[A]\n",
        "\n",
        "* An example of 2 independent events is the outcome of rolling two dice:\n",
        "Event A: Roll the number 4 on the first of two dice.\n",
        "Event B: Roll the number 6 on the second of two dice.\n",
        "\n",
        "* For two **independent** events, the **multiplication rule of Probability** states the following: P[A and B] = P[A] × P[B].  \n",
        "\n",
        "* If Events A and B are said to be dependent events. If  P[A/B] != P[A]\n",
        "\n",
        "* If the two events are **dependent**, the multiplication rule becomes: P[A and B] = P[A/B] × P[B]\n",
        "\n"
      ]
    },
    {
      "cell_type": "code",
      "metadata": {
        "id": "B7VXnbdJ8oGI",
        "colab": {
          "base_uri": "https://localhost:8080/"
        },
        "outputId": "a91b4095-8f33-4e21-f2b8-f803fff54b9d"
      },
      "source": [
        "# independent events - dice roll\n",
        "# event A (no 4 in first dice roll)probability\n",
        "print(str(round((1/6)*100,2))+'%')\n",
        "\n",
        "# event B (no 6 in second dice roll)probability\n",
        "print(str(round((1/6)*100,2))+'%')\n",
        "\n",
        "# conditional probability that both will happen - intersection\n",
        "print(str(round((1/6)*(1/6)*100,2))+'%') # same as 1/36"
      ],
      "execution_count": null,
      "outputs": [
        {
          "output_type": "stream",
          "name": "stdout",
          "text": [
            "16.67%\n",
            "16.67%\n",
            "2.78%\n"
          ]
        }
      ]
    },
    {
      "cell_type": "code",
      "metadata": {
        "id": "zEpMd9t-CYCS",
        "colab": {
          "base_uri": "https://localhost:8080/"
        },
        "outputId": "53cea0ff-d28a-4588-f229-75b7f844de08"
      },
      "source": [
        "# dependent events - tennis matches example\n",
        "# event A (Debbie wins the match)probability\n",
        "print(str(round((9/20)*100,2))+'%')\n",
        "\n",
        "# event B (warm up time less than 10 mins)probability\n",
        "print(str(round((13/20)*100,2))+'%')\n",
        "\n",
        "# conditional probability that both will happen - intersection P[A/B]=4/13\n",
        "print(str(round((4/13)*(13/20)*100,2))+'%')"
      ],
      "execution_count": null,
      "outputs": [
        {
          "output_type": "stream",
          "name": "stdout",
          "text": [
            "45.0%\n",
            "65.0%\n",
            "20.0%\n"
          ]
        }
      ]
    },
    {
      "cell_type": "markdown",
      "metadata": {
        "id": "vuzXhs1jDSjm"
      },
      "source": [
        "* Two events are considered to be mutually exclusive if they cannot occur at the same time during the experiment.\n",
        "\n",
        "* For example, suppose my experiment is to roll a single die and my events of interest are as follows:  Event A: Roll a 1.  Event B: Roll a 2.\n",
        "\n",
        "**Addition rule of probabilities**\n",
        "\n",
        "* For mutually exclusive events, the addition rule states that P[A or B] = P[A] + P[B].\n",
        "\n",
        "* If the events are not mutually exclusive like in the tennis example earlier, the addition rule becomes P[A or B] = P[A] + P[B] – P[A and B].\n",
        "\n",
        "* The logic behind subtracting P[A and B] in the addition rule is to avoid double counting.\n"
      ]
    },
    {
      "cell_type": "code",
      "metadata": {
        "id": "dfZnlXuZHQGP",
        "colab": {
          "base_uri": "https://localhost:8080/"
        },
        "outputId": "9e60483c-7199-4a12-d417-204b1a1c7763"
      },
      "source": [
        "# Mutually exclusive events - dice roll\n",
        "# event A (no 4 in  dice roll)probability\n",
        "print(str(round((1/6)*100,2))+'%')\n",
        "\n",
        "# event B (no 6 in  dice roll)probability\n",
        "print(str(round((1/6)*100,2))+'%')\n",
        "\n",
        "# conditional probability that either will happen\n",
        "print(str(round((2/6)*100,2))+'%')"
      ],
      "execution_count": null,
      "outputs": [
        {
          "output_type": "stream",
          "name": "stdout",
          "text": [
            "16.67%\n",
            "16.67%\n",
            "33.33%\n"
          ]
        }
      ]
    },
    {
      "cell_type": "code",
      "metadata": {
        "id": "lLHt7UJqLvhw",
        "colab": {
          "base_uri": "https://localhost:8080/"
        },
        "outputId": "15859894-0840-41a5-8efd-5cc55fbc2ab1"
      },
      "source": [
        "# not exclusive events - tennis matches example\n",
        "# event A (Debbie wins the match)probability\n",
        "print(str(round((9/20)*100,2))+'%')\n",
        "\n",
        "# event B (warm up time less than 10 mins)probability\n",
        "print(str(round((13/20)*100,2))+'%')\n",
        "\n",
        "# conditional probability that either will happen\n",
        "print(str(round(.45+.65-.20,2))+'%')"
      ],
      "execution_count": null,
      "outputs": [
        {
          "output_type": "stream",
          "name": "stdout",
          "text": [
            "45.0%\n",
            "65.0%\n",
            "0.9%\n"
          ]
        }
      ]
    },
    {
      "cell_type": "markdown",
      "metadata": {
        "id": "W3QM04dfPSBV"
      },
      "source": [
        "**Probability Distributions**\n",
        "\n",
        "* PDF = Probability DENSITY Function. This tells you, for a continuous distribution, how dense the probability is at each point\n",
        "* PMF = Probabiliy MASS function. This is what you call a PDF when the distribution is discrete.\n",
        "* CDF = Cumulative Distribution Function: This tells you the probability of being <= x, so you add up all of the probabilities up to that point. For a continuous distribution, the CDF is the area under the PDF up to that point.\n"
      ]
    },
    {
      "cell_type": "markdown",
      "metadata": {
        "id": "5u34YJNdPYzG"
      },
      "source": [
        "**Binomial Distribution**"
      ]
    },
    {
      "cell_type": "markdown",
      "metadata": {
        "id": "mM2Obg3_9KW_"
      },
      "source": [
        "A binomial experiment has the following characteristics:\n",
        "\n",
        "* The experiment consists of a fixed number of trials denoted by n;\n",
        "* Each trial has only two possible outcomes, a success or a failure;\n",
        " The probability of success and the probability of failure are constant throughout the experiment;\n",
        "* Each trial is independent of any other trial in the experiment.\n",
        "\n",
        "Examples :\n",
        "* Testing whether a part is defective after it has been manufactured\n",
        "* Observing the number of correct responses in a multiple-choice exam\n",
        "\n",
        "* The binomial probability distribution allows us to calculate the probability (p) of a specific number of successes (k) for a certain number of trials (n)\n"
      ]
    },
    {
      "cell_type": "code",
      "metadata": {
        "id": "NFyUnwcFPexo",
        "colab": {
          "base_uri": "https://localhost:8080/",
          "height": 501
        },
        "outputId": "b6d950ea-a6b8-4928-b2d8-daa71c030a4a"
      },
      "source": [
        "# use example of 30% probability of rain every day in september\n",
        "# what is the probability that it will rain for 0 to 10 days in 10 days?\n",
        "n=10\n",
        "p=0.3  # change to 0.5 and see\n",
        "\n",
        "import numpy as np\n",
        "import scipy.stats as st\n",
        "import matplotlib.pyplot as plt\n",
        "\n",
        "n=10\n",
        "p=0.6  # change to 0.5 and see\n",
        "k=np.arange(0,11)\n",
        "binomial=st.binom.pmf(k,n,p) # will return probabilities at every point\n",
        "print(binomial)\n",
        "plt.plot(k,binomial,'o-')\n",
        "plt.xlabel('Number of successes')\n",
        "plt.ylabel('Probability of successes')\n",
        "plt.show()"
      ],
      "execution_count": 11,
      "outputs": [
        {
          "output_type": "stream",
          "name": "stdout",
          "text": [
            "[1.04857600e-04 1.57286400e-03 1.06168320e-02 4.24673280e-02\n",
            " 1.11476736e-01 2.00658125e-01 2.50822656e-01 2.14990848e-01\n",
            " 1.20932352e-01 4.03107840e-02 6.04661760e-03]\n"
          ]
        },
        {
          "output_type": "display_data",
          "data": {
            "text/plain": [
              "<Figure size 640x480 with 1 Axes>"
            ],
            "image/png": "[encoded data removed]"
          },
          "metadata": {}
        }
      ]
    },
    {
      "cell_type": "code",
      "metadata": {
        "id": "mnhNSFv8Rvob",
        "colab": {
          "base_uri": "https://localhost:8080/"
        },
        "outputId": "61f80af0-cbdc-4f8c-a8cd-eb2b7e89ccf1"
      },
      "source": [
        "# use example of 30% probability of rain every day.\n",
        "# what is the probability that it will rain for 5 or 6 days in 10 days?\n",
        "n=10\n",
        "p=0.6  # change to 0.5 and see\n",
        "\n",
        "result1=st.binom.pmf(5,n,p)+st.binom.pmf(6,n,p)\n",
        "\n",
        "# up to 5 days\n",
        "result2=st.binom.cdf(5,n,p) #  # will return probabilities till a point cumulatively\n",
        "\n",
        "print(result1)\n",
        "print(result2)"
      ],
      "execution_count": 12,
      "outputs": [
        {
          "output_type": "stream",
          "name": "stdout",
          "text": [
            "0.45148078079999976\n",
            "0.3668967424000001\n"
          ]
        }
      ]
    },
    {
      "cell_type": "markdown",
      "metadata": {
        "id": "DD8y3TcrS3Un"
      },
      "source": [
        "**Poisson distribution**"
      ]
    },
    {
      "cell_type": "markdown",
      "metadata": {
        "id": "omS9HqxB9egV"
      },
      "source": [
        "* A Poisson process counts the number of occurrences of an event over a period of time, area, distance, or any other type of measurement.\n",
        "\n",
        "A Poisson process has the following characteristics:\n",
        "* The experiment consists of counting the number of occurrences of an event over a period of time, area, distance, or any other type of measurement;\n",
        "\n",
        "* The mean of the Poisson distribution has to be the same for each interval of measurement;\n",
        "\n",
        "* The number of occurrences during one interval is independent of the number of occurrences in any other interval.\n",
        "\n",
        "* Technically, with a Poisson distribution, there is no upper limit to the number of occurrences during the interval\n",
        "\n",
        "Examples\n",
        "* The number of typographical errors found in a manuscript\n",
        "* The number of students who are absent in my Monday-morning statistics class\n",
        "* The number of professional football players who are placed on the injured list each week\n"
      ]
    },
    {
      "cell_type": "code",
      "metadata": {
        "id": "GbhNL9mgS8c4",
        "colab": {
          "base_uri": "https://localhost:8080/",
          "height": 501
        },
        "outputId": "ec4e8f0a-3817-43bc-fd91-12382576da8b"
      },
      "source": [
        "# no of cars crossing a toll booth in 10 mins is 2 on an average.\n",
        "\n",
        "import numpy as np\n",
        "import scipy.stats as st\n",
        "import matplotlib.pyplot as plt\n",
        "import seaborn as sb\n",
        "\n",
        "rate=2\n",
        "n=np.arange(0,11)\n",
        "pois=st.poisson.pmf(n, rate)\n",
        "print(pois)\n",
        "\n",
        "plt.plot(n,pois,'o-')\n",
        "plt.xlabel(\"No of cars passing a point\")\n",
        "plt.ylabel(\"Probability of No of cars passing a point\")\n",
        "plt.show()"
      ],
      "execution_count": null,
      "outputs": [
        {
          "output_type": "stream",
          "name": "stdout",
          "text": [
            "[1.35335283e-01 2.70670566e-01 2.70670566e-01 1.80447044e-01\n",
            " 9.02235222e-02 3.60894089e-02 1.20298030e-02 3.43708656e-03\n",
            " 8.59271640e-04 1.90949253e-04 3.81898506e-05]\n"
          ]
        },
        {
          "output_type": "display_data",
          "data": {
            "text/plain": [
              "<Figure size 640x480 with 1 Axes>"
            ],
            "image/png": "[encoded data removed]"
          },
          "metadata": {}
        }
      ]
    },
    {
      "cell_type": "code",
      "metadata": {
        "id": "LES3Sqe_TL4L",
        "colab": {
          "base_uri": "https://localhost:8080/"
        },
        "outputId": "37db26ef-9dda-4bfd-bdea-89b78d58ad79"
      },
      "source": [
        "# no of cars crossing a toll booth in 10 mins is 2 on an average.\n",
        "# show probability for 4 cars crossing it in 10 mins - poisson distribution\n",
        "pois1=st.poisson.pmf(4, rate)\n",
        "pois2=st.poisson.cdf(4, rate)  # cumulative value\n",
        "print(pois1)\n",
        "print(pois2)"
      ],
      "execution_count": null,
      "outputs": [
        {
          "output_type": "stream",
          "name": "stdout",
          "text": [
            "0.09022352215774178\n",
            "0.9473469826562889\n"
          ]
        }
      ]
    },
    {
      "cell_type": "code",
      "metadata": {
        "id": "MlmH19XmP8Yn",
        "colab": {
          "base_uri": "https://localhost:8080/"
        },
        "outputId": "984d35b9-f570-41fa-b6d0-f6b51210efd9"
      },
      "source": [
        "# probabilty that it would be more than 6 cars\n",
        "import scipy.stats as st\n",
        "rate=2\n",
        "print(1-st.poisson.cdf(6, rate))"
      ],
      "execution_count": null,
      "outputs": [
        {
          "output_type": "stream",
          "name": "stdout",
          "text": [
            "0.004533805526248824\n"
          ]
        }
      ]
    },
    {
      "cell_type": "markdown",
      "metadata": {
        "id": "wwU3bRBdTVE3"
      },
      "source": [
        "**Normal distribution**"
      ]
    },
    {
      "cell_type": "markdown",
      "metadata": {
        "id": "AerCNPU592XZ"
      },
      "source": [
        "* The normal distribution is a statistician’s workhorse. This distribution is the foundation for many types of inferential statistics that we rely on today.\n",
        "\n",
        "* Some examples of continuous random variables are weight, distance, speed, or time.\n",
        "\n",
        "* We can make the following observations about the normal distribution:\n",
        "* The mean, median, and mode are the same value\n",
        "* The distribution is bell-shaped and symmetrical around the mean.\n",
        "* The total area under the curve is equal to 1.\n",
        "* The left and right sides of the normal probability distribution extend indefinitely, never quite touching the horizontal axis.\n",
        "\n"
      ]
    },
    {
      "cell_type": "code",
      "metadata": {
        "id": "nQd5WVqaTX9-",
        "colab": {
          "base_uri": "https://localhost:8080/"
        },
        "outputId": "2fef0b5b-56f4-4f2f-879c-f617e37a89c4"
      },
      "source": [
        "import numpy as np\n",
        "import scipy.stats as st\n",
        "import matplotlib.pyplot as plt\n",
        "\n",
        "# example - Assume that the test scores of a college entrance exam fits a normal distribution.\n",
        "# Furthermore, the mean test score is 72, and the standard deviation is 15.2.\n",
        "# What is the percentage of students scoring 84 or more in the exam?\n",
        "\n",
        "mu=72\n",
        "sigma=15.2\n",
        "\n",
        "result1=st.norm.pdf(84,mu,sigma) # not important as it is a continuous variable\n",
        "result2=1-st.norm.cdf(84,mu,sigma)\n",
        "\n",
        "print(result1)\n",
        "print(result2)"
      ],
      "execution_count": null,
      "outputs": [
        {
          "output_type": "stream",
          "name": "stdout",
          "text": [
            "0.019218761605975455\n",
            "0.21491760231127244\n"
          ]
        }
      ]
    },
    {
      "cell_type": "code",
      "metadata": {
        "id": "uABClRxPTfFn",
        "colab": {
          "base_uri": "https://localhost:8080/",
          "height": 279
        },
        "outputId": "4be28ad6-6af3-4f7f-f274-c107c4849230"
      },
      "source": [
        "x=np.arange(1,100)\n",
        "y=st.norm.pdf(x,mu,sigma)\n",
        "plt.plot(x,y)\n",
        "plt.xlabel(\"x\")\n",
        "plt.xlabel(\"Probable density\")\n",
        "plt.show()"
      ],
      "execution_count": null,
      "outputs": [
        {
          "output_type": "display_data",
          "data": {
            "text/plain": [
              "<Figure size 432x288 with 1 Axes>"
            ],
            "image/png": "[encoded data removed]"
          },
          "metadata": {
            "needs_background": "light"
          }
        }
      ]
    },
    {
      "cell_type": "markdown",
      "metadata": {
        "id": "04IMSOHW-h9o"
      },
      "source": [
        "**Sampling**:\n",
        "\n",
        "* Random sampling refers to a sampling procedure where every member in the population has a chance of being selected.\n",
        "\n",
        "* A biased sample is a sample that does not represent the intended population and can lead to distorted findings\n",
        "\n",
        "* A cluster sample is a simple random sample of groups, or clusters, of the population. Each member of the chosen clusters would be part of the final sample. example- classes in a college are clusters\n",
        "\n",
        "* A stratified sample is obtained by dividing the population into mutually exclusive groups, or strata, and randomly sampling from each of these groups.  Examples of criteria that we can use to divide the population into strata are age, income, or occupation.\n",
        "\n",
        "* Sampling error occurs when the sample measurement is different from the population measurement. It is the result of selecting a sample that is not a perfect match to the entire population.\n"
      ]
    },
    {
      "cell_type": "markdown",
      "metadata": {
        "id": "5d1-7CdQHwiw"
      },
      "source": [
        "**Confidence intervals**"
      ]
    },
    {
      "cell_type": "markdown",
      "metadata": {
        "id": "-287nYb4-6X_"
      },
      "source": [
        "* One of the most important roles that statistics plays in today’s world is to gather information from a sample and use that information to make a statement about the population from which it was chosen.\n",
        "\n",
        "* We are using the sample as an estimate for the population. But just how good of an estimate is the sample providing us? The concept of confidence intervals will provide us with that answer.\n",
        "\n",
        "* In applied machine learning, we may wish to use confidence intervals in the presentation of the skill of a predictive model which could be stated as\n",
        "\n",
        "* Given the sample, there is a 95% likelihood that the range x to y covers the true model accuracy.\n",
        "\n",
        "* The choice of 95% confidence is very common in presenting confidence intervals, although other less common values are used, such as 90% and 99.7%.\n"
      ]
    },
    {
      "cell_type": "code",
      "metadata": {
        "id": "T7nVzlDFH0ne",
        "colab": {
          "base_uri": "https://localhost:8080/"
        },
        "outputId": "ae0b630d-9ec6-4c76-bd7c-d8fed4c60bd2"
      },
      "source": [
        "import math as mt\n",
        "# Let’s say from a sample of 32 customers the average order is $78.25 and\n",
        "# the population standard deviation is $37.50.\n",
        "# (This represents the variation among orders within the population.)\n",
        "# We can calculate our 90 percent confidence interval as follows\n",
        "\n",
        "mu=78.25\n",
        "sigma=37.5\n",
        "n=32\n",
        "z_score=1.96 # change this for varying confidence intervals\n",
        "\n",
        "sem=sigma/mt.sqrt(n)\n",
        "\n",
        "# lower limit of confidence interval\n",
        "print(\"Lower limit\")\n",
        "print(mu-z_score*sem)\n",
        "\n",
        "# upper limit of confidence interval\n",
        "print(\"Upper limit\")\n",
        "print(mu+z_score*sem)"
      ],
      "execution_count": null,
      "outputs": [
        {
          "output_type": "stream",
          "name": "stdout",
          "text": [
            "Lower limit\n",
            "65.25691289569718\n",
            "Upper limit\n",
            "91.24308710430282\n"
          ]
        }
      ]
    },
    {
      "cell_type": "markdown",
      "metadata": {
        "id": "z75Z5kM0LHJf"
      },
      "source": [
        "**Hypothesis Testing using z scores**"
      ]
    },
    {
      "cell_type": "markdown",
      "metadata": {
        "id": "mvH3divN_ScQ"
      },
      "source": [
        "* In the statistical world, a hypothesis is an assumption about a population parameter.\n",
        "\n",
        "* The average adult drinks 1.7 cups of coffee per day.\n",
        "No more than 2 percent of our products sold to customers are defective.\n",
        "\n",
        "* In each case, we have made a statement about the population that may or may not be true. The purpose of hypothesis testing is to make a statistical conclusion about accepting or not accepting such statements.\n",
        "\n",
        "* The null hypothesis, denoted by H0, represents the status quo The null hypothesis is believed to be true unless there is overwhelming evidence to the contrary.\n",
        "\n",
        "* The alternative hypothesis, denoted by H1, represents the opposite of the null hypothesis and holds true if the null hypothesis is found to be false.\n",
        "\n",
        "* A one-tail hypothesis test involves the alternative hypothesis being stated as < or >.\n",
        "\n",
        "* A two-tail hypothesis test is used when the alternative hypothesis is expressed as !=\n"
      ]
    },
    {
      "cell_type": "markdown",
      "metadata": {
        "id": "4t4QbdaW_flV"
      },
      "source": [
        "\n",
        "\n",
        "---\n",
        "\n"
      ]
    },
    {
      "cell_type": "markdown",
      "metadata": {
        "id": "rhYPZjKv_gb1"
      },
      "source": [
        "* Normally, with hypothesis testing, we decide on a value for alpha that is somewhere between 0.01 and 0.10 before we collect the sample.\n",
        "\n",
        "* The p value, or calculated probability, is the probability of finding the observed, or more extreme, results when the null hypothesis (H0) of a study question is true\n",
        "\n",
        "* If your p value is less than the chosen significance level then you reject the null hypothesis i.e. accept that your sample gives reasonable evidence to support the alternative hypothesis.\n"
      ]
    },
    {
      "cell_type": "markdown",
      "metadata": {
        "id": "3xlVjYzV966p"
      },
      "source": [
        "Lower Tail Test of Population Mean with Known Variance"
      ]
    },
    {
      "cell_type": "code",
      "metadata": {
        "id": "eLFSxNViLK9F",
        "colab": {
          "base_uri": "https://localhost:8080/"
        },
        "outputId": "f1c2464e-94ac-4e0c-dfcc-baa1f047a730"
      },
      "source": [
        "# Suppose the manufacturer claims that the mean lifetime of a light bulb is more than 10,000 hours.\n",
        "# In a sample of 30 light bulbs, it was found that they only last 9,900 hours on average.\n",
        "# Assume the population standard deviation is 120 hours. At .05 significance level,\n",
        "# can we reject the claim by the manufacturer?\n",
        "\n",
        "# This data might be the originally collected one (primary data) or secondary data\n",
        "# But the samples must be random\n",
        "\n",
        "import math as mt\n",
        "import scipy.stats as st\n",
        "\n",
        "xbar = 9900            # sample mean.  change to 9970 and see\n",
        "mu0 = 10000            # hypothesized value\n",
        "sigma = 120            # population standard deviation\n",
        "n = 30                 # sample size\n",
        "z = (xbar-mu0)/(sigma/mt.sqrt(n)) # test statistic\n",
        "print(z)                      # test statistic.  it is less than -1.64 which is the critical value. so reject H0\n",
        "\n",
        "p=st.norm.cdf(z)\n",
        "print(p) # it is less than 0.05, so reject H0"
      ],
      "execution_count": null,
      "outputs": [
        {
          "output_type": "stream",
          "name": "stdout",
          "text": [
            "-4.564354645876384\n",
            "2.5051659781952214e-06\n"
          ]
        }
      ]
    },
    {
      "cell_type": "markdown",
      "metadata": {
        "id": "lpc50V869-zY"
      },
      "source": [
        "Upper Tail Test of Population Mean with Known Variance"
      ]
    },
    {
      "cell_type": "code",
      "metadata": {
        "id": "6xlpxZzW-HTP",
        "colab": {
          "base_uri": "https://localhost:8080/"
        },
        "outputId": "a21d21d3-4def-46f6-b4c4-e77dcd570d0d"
      },
      "source": [
        "# Suppose the food label on a cookie bag states that there is at most 2 grams\n",
        "# of saturated fat in a single cookie. In a sample of 35 cookies,\n",
        "# it is found that the mean amount of saturated fat per cookie is 2.1 grams.\n",
        "# Assume that the population standard deviation is 0.25 grams.\n",
        "# At .05 significance level, can we reject the claim on food label?\n",
        "\n",
        "import math as mt\n",
        "import scipy.stats as st\n",
        "\n",
        "xbar = 2.05              # sample mean, change to 2.05 and see\n",
        "mu0 = 2              # hypothesized value\n",
        "sigma = 0.25            # population standard deviation\n",
        "n = 35                 # sample size\n",
        "z = (xbar-mu0)/(sigma/mt.sqrt(n)) # test statistic\n",
        "print(z)                      # test statistic.  it is more than 1.64 which is the critical value. so reject H0\n",
        "\n",
        "p=st.norm.cdf(z)\n",
        "print(p) # it is more than 0.95, so reject H0"
      ],
      "execution_count": null,
      "outputs": [
        {
          "output_type": "stream",
          "name": "stdout",
          "text": [
            "1.1832159566199192\n",
            "0.8816382146810704\n"
          ]
        }
      ]
    },
    {
      "cell_type": "markdown",
      "metadata": {
        "id": "HAdwb1jOA26a"
      },
      "source": [
        "Two tailed test"
      ]
    },
    {
      "cell_type": "code",
      "metadata": {
        "id": "GFkkO9lRA44-",
        "colab": {
          "base_uri": "https://localhost:8080/"
        },
        "outputId": "f72b6a86-82b7-4b23-ab49-36e40f9a1ae1"
      },
      "source": [
        "# Suppose the mean weight of King Penguins found in an Antarctic colony last year\n",
        "# was 15.4 kg. In a sample of 35 penguins same time this year in the same colony,\n",
        "# the mean penguin weight is 14.6 kg. Assume the population standard deviation\n",
        "# is 2.5 kg. At .05 significance level, can we reject the null hypothesis\n",
        "# that the mean penguin weight does not differ from last year?\n",
        "\n",
        "import math as mt\n",
        "import scipy.stats as st\n",
        "\n",
        "xbar = 14.6                 # sample mean, change to 14.4, 16.4 and see\n",
        "mu0 = 15.4              # hypothesized value\n",
        "sigma = 2.5            # population standard deviation\n",
        "n = 35                 # sample size\n",
        "z = (xbar-mu0)/(sigma/mt.sqrt(n)) # test statistic\n",
        "print(z)                      # test statistic.  it is more than -1.96 which is the critical value. so don't reject H0\n",
        "\n",
        "p=st.norm.cdf(z)\n",
        "print(p) # it is more than 0.025, so don't reject H0"
      ],
      "execution_count": null,
      "outputs": [
        {
          "output_type": "stream",
          "name": "stdout",
          "text": [
            "1.656502339267895\n",
            "0.9511899341378758\n"
          ]
        }
      ]
    },
    {
      "cell_type": "markdown",
      "metadata": {
        "id": "PiCiA0KAHMY_"
      },
      "source": [
        "**Hypothesis testing for t-distribution**\n",
        "\n",
        "* The t distribution, also known as the Student’s t-distribution, is a type of probability distribution that is similar to the normal distribution with its bell shape but has heavier tails.\n",
        "\n",
        "* t distributions have a greater chance for extreme values than normal distributions, hence the fatter tails."
      ]
    },
    {
      "cell_type": "markdown",
      "metadata": {
        "id": "I7IDDP770ycm"
      },
      "source": [
        "Lower Tail Test of Population Mean with Unknown Variance"
      ]
    },
    {
      "cell_type": "code",
      "metadata": {
        "id": "DYxhu5MtHXPt",
        "colab": {
          "base_uri": "https://localhost:8080/"
        },
        "outputId": "0fcee0dc-bfc2-4699-a3fa-9061d7e6add5"
      },
      "source": [
        "# Suppose the manufacturer claims that the mean lifetime of a light bulb is\n",
        "# more than 10,000 hours. In a sample of 30 light bulbs, it was found that\n",
        "# they only last 9,900 hours on average. Assume the sample standard deviation\n",
        "# is 125 hours. At .05 significance level, can we reject the claim by the manufacturer?\n",
        "\n",
        "import math as mt\n",
        "import scipy.stats as st\n",
        "\n",
        "xbar = 9900            # sample mean.  change to 9970 and see\n",
        "mu0 = 10000            # hypothesized value\n",
        "sigma = 125            # population standard deviation\n",
        "n = 30                 # sample size\n",
        "t = (xbar-mu0)/(sigma/mt.sqrt(n)) # test statistic\n",
        "print(t)                      # test statistic.  it is less than -1.699 which is the critical value. so reject H0\n",
        "\n",
        "p=st.t.cdf(t, df=n-1)\n",
        "print(p) # if it is less than 0.05, reject H0"
      ],
      "execution_count": null,
      "outputs": [
        {
          "output_type": "stream",
          "name": "stdout",
          "text": [
            "-4.381780460041329\n",
            "7.035025729010886e-05\n"
          ]
        }
      ]
    },
    {
      "cell_type": "markdown",
      "metadata": {
        "id": "KjM5W-0JQgSK"
      },
      "source": [
        "**Chi-square distribution goodness of fit**\n",
        "\n",
        "* The chi-square distribution will allow us to perform hypothesis testing on nominal and ordinal data.\n",
        "\n",
        "* One of the many uses of the chi-square distribution is to perform a goodness-of-fit test, which uses a sample to test whether a frequency distribution fits the predicted distribution. No –ve values.\n",
        "\n",
        "* The total number of expected (E) frequencies must be equal to the total number of observed (O) frequencies.\n",
        "\n",
        "* In addition to the goodness-of-fit test, the chi-square distribution can also test for independence between variables.\n"
      ]
    },
    {
      "cell_type": "code",
      "metadata": {
        "id": "WGkxC39eQpVT",
        "colab": {
          "base_uri": "https://localhost:8080/"
        },
        "outputId": "19ca657e-e563-4718-b85c-2c781d8a4400"
      },
      "source": [
        "# Movie ratings example with 0.05 significance\n",
        "\n",
        "import scipy.stats as st\n",
        "\n",
        "movieratings_expected = [160, 120, 80, 20, 20]\n",
        "movieratings_actual =  [145, 128, 73, 32, 22] # also try\n",
        "movieratings_actual = [155, 128, 73, 22, 22]\n",
        "\n",
        "stat,p=st.chisquare(movieratings_actual, movieratings_expected)\n",
        "print(stat)\n",
        "print(p)\n",
        "\n",
        "if p < 0.05:\n",
        "\tprint('Actual ratings are NOT as per expected ones')\n",
        "else:\n",
        "\tprint('Actual ratings are as per expected ones')"
      ],
      "execution_count": 13,
      "outputs": [
        {
          "output_type": "stream",
          "name": "stdout",
          "text": [
            "1.7020833333333334\n",
            "0.7903391491102474\n",
            "Actual ratings are as per expected ones\n"
          ]
        }
      ]
    },
    {
      "cell_type": "markdown",
      "metadata": {
        "id": "elAG66dU-tVM"
      },
      "source": [
        "**Chi-squared Hypothesis test**"
      ]
    },
    {
      "cell_type": "code",
      "metadata": {
        "id": "bwL_6a2RmDmY",
        "colab": {
          "base_uri": "https://localhost:8080/"
        },
        "outputId": "d9d5ec85-292a-44a5-91fa-86f433babf0d"
      },
      "source": [
        "# Tennis matches data\n",
        "\n",
        "from scipy.stats import chi2_contingency\n",
        "\n",
        "table = [[4, 10, 9],\n",
        "        [14, 9, 4]]\n",
        "\n",
        "stat, p, dof, expected = chi2_contingency(table)\n",
        "print(stat)\n",
        "print(p)\n",
        "print(dof)\n",
        "print(expected)\n",
        "if p < 0.05:\n",
        "  print('Warmup time affects performance')\n",
        "else:\n",
        "\tprint('Warmup time doesnt affect performance')"
      ],
      "execution_count": 15,
      "outputs": [
        {
          "output_type": "stream",
          "name": "stdout",
          "text": [
            "7.257713423490182\n",
            "0.026546517387458897\n",
            "2\n",
            "[[ 8.28  8.74  5.98]\n",
            " [ 9.72 10.26  7.02]]\n",
            "Warmup time affects performance\n"
          ]
        }
      ]
    },
    {
      "cell_type": "markdown",
      "metadata": {
        "id": "IR-r-mKm7r90"
      },
      "source": [
        "**f-test - Analysis of Variance Test (ANOVA)**\n",
        "\n",
        "* The F-Distribution is also called as Variance Ratio Distribution as it usually defines the ratio of the variances of the two normally distributed populations. The F-distribution got its name after the name of R.A. Fisher, who studied this test for the first time.  It can’t be negative\n",
        "\n",
        "* If you want to compare the means for three or more populations part of F-distribution, ANOVA (Analysis of variance) is the test for you.\n",
        "\n",
        "* If the variation between the samples (MSB) is much greater than the variation within the samples (MSW), we will tend to reject the null hypothesis and conclude that there is a difference between population means.\n",
        "\n",
        "To use one-way ANOVA, the following conditions must be present:\n",
        "\n",
        "* The populations of interest must be normally distributed.\n",
        "* The samples must be independent of each other.\n",
        "* Each population must have the same variance.\n",
        "\n",
        "* The simplest type of ANOVA is known as completely randomized one-way ANOVA, which involves an independent random selection of observations for each level of one factor. – f-test\n"
      ]
    },
    {
      "cell_type": "code",
      "metadata": {
        "id": "kEO3nThe8bSB",
        "colab": {
          "base_uri": "https://localhost:8080/"
        },
        "outputId": "366da87d-db4e-4a1e-fea8-4da511fcc145"
      },
      "source": [
        "# Example of fertilizers and the lawn clippings weights\n",
        "\n",
        "from scipy.stats import f_oneway\n",
        "data1 = [10.2, 8.5, 8.4, 10.5, 9.0, 8.1]\n",
        "data2 = [11.6, 12.0, 9.2, 10.3, 9.9, 12.5]\n",
        "data3 = [8.1, 9.0, 10.7, 9.1, 10.5, 9.5]\n",
        "\n",
        "stat, p = f_oneway(data1, data2, data3)\n",
        "\n",
        "print(stat)\n",
        "print(p)\n",
        "\n",
        "if p < 0.05:\n",
        "  print('They are NOT similar')\n",
        "else:\n",
        "\tprint('They are similar')"
      ],
      "execution_count": null,
      "outputs": [
        {
          "output_type": "stream",
          "name": "stdout",
          "text": [
            "4.43899336785682\n",
            "0.03059860612939594\n",
            "They are NOT similar\n"
          ]
        }
      ]
    },
    {
      "cell_type": "code",
      "source": [
        "import pandas as pd\n",
        "\n",
        "from matplotlib import pyplot as plt\n",
        "import seaborn as sb\n",
        "\n",
        "df = sb.load_dataset('tips')\n",
        "sb.regplot(x = \"total_bill\", y = \"tip\", data = df)\n",
        "plt.show()"
      ],
      "metadata": {
        "colab": {
          "base_uri": "https://localhost:8080/",
          "height": 450
        },
        "id": "HYPGg236rKL7",
        "outputId": "2b7760c2-2cdd-45ff-ea8a-5721c01e9d35"
      },
      "execution_count": null,
      "outputs": [
        {
          "output_type": "display_data",
          "data": {
            "text/plain": [
              "<Figure size 640x480 with 1 Axes>"
            ],
            "image/png": "[encoded data removed]"
          },
          "metadata": {}
        }
      ]
    }
  ]
}