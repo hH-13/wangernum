{
  "nbformat": 4,
  "nbformat_minor": 0,
  "metadata": {
    "colab": {
      "provenance": []
    },
    "kernelspec": {
      "name": "python3",
      "display_name": "Python 3"
    }
  },
  "cells": [
    {
      "cell_type": "markdown",
      "metadata": {
        "id": "EWko2RWjgaR3"
      },
      "source": [
        "#### Model Evaluation"
      ]
    },
    {
      "cell_type": "markdown",
      "metadata": {
        "id": "2vo31Nql-PnP"
      },
      "source": [
        "**Evaluation metrics for Multi label classification**"
      ]
    },
    {
      "cell_type": "code",
      "metadata": {
        "id": "5D9Z8VOjgXN4",
        "colab": {
          "base_uri": "https://localhost:8080/",
          "height": 85
        },
        "outputId": "d39f2a54-ae3f-403b-ab6f-83cd7bc489e7"
      },
      "source": [
        "from sklearn import datasets\n",
        "iris=datasets.load_iris()\n",
        "from sklearn.model_selection import train_test_split\n",
        "X_train, X_test, Y_train, Y_test= train_test_split(iris.data, iris.target, test_size=0.5, random_state=4)\n",
        "\n",
        "from sklearn.tree import DecisionTreeClassifier\n",
        "classifier=DecisionTreeClassifier(max_depth=2)\n",
        "classifier.fit(X_train,Y_train)\n",
        "Y_pred=classifier.predict(X_test)\n",
        "print(iris.target_names)\n",
        "\n",
        "# Confusion matrix\n",
        "from sklearn import metrics\n",
        "from sklearn.metrics import confusion_matrix\n",
        "cm=confusion_matrix(Y_test,Y_pred)\n",
        "print(cm)"
      ],
      "execution_count": null,
      "outputs": [
        {
          "output_type": "stream",
          "text": [
            "['setosa' 'versicolor' 'virginica']\n",
            "[[30  0  0]\n",
            " [ 0 19  3]\n",
            " [ 0  2 21]]\n"
          ],
          "name": "stdout"
        }
      ]
    },
    {
      "cell_type": "code",
      "metadata": {
        "id": "D95qdjv8g5yI",
        "colab": {
          "base_uri": "https://localhost:8080/",
          "height": 136
        },
        "outputId": "812dee4c-56aa-42fa-959e-69df2fabbc31"
      },
      "source": [
        "# Accuracy\n",
        "print(\"Accuracy:\", metrics.accuracy_score(Y_test, Y_pred))\n",
        "\n",
        "# Precision for each class\n",
        "print(\"Precision:\", metrics.precision_score(Y_test, Y_pred, average=None))\n",
        "\n",
        "# Precision - will return the total ratio of tp/(tp + fp)\n",
        "print(\"Precision:\", metrics.precision_score(Y_test, Y_pred, average='micro'))\n",
        "\n",
        "# Recall with None\n",
        "print(\"Recall:\", metrics.recall_score(Y_test, Y_pred, average=None))\n",
        "\n",
        "# Recall with micro\n",
        "print(\"Recall:\", metrics.recall_score(Y_test, Y_pred, average='micro'))\n",
        "\n",
        "# F1 score with None\n",
        "print(\"F1 score:\", metrics.f1_score(Y_test, Y_pred, average=None))\n",
        "\n",
        "# F1 score with micro\n",
        "print(\"F1 score:\", metrics.f1_score(Y_test, Y_pred, average='micro'))"
      ],
      "execution_count": null,
      "outputs": [
        {
          "output_type": "stream",
          "text": [
            "Accuracy: 0.9333333333333333\n",
            "Precision: [1.        0.9047619 0.875    ]\n",
            "Precision: 0.9333333333333333\n",
            "Recall: [1.         0.86363636 0.91304348]\n",
            "Recall: 0.9333333333333333\n",
            "F1 score: [1.         0.88372093 0.89361702]\n",
            "F1 score: 0.9333333333333333\n"
          ],
          "name": "stdout"
        }
      ]
    },
    {
      "cell_type": "code",
      "metadata": {
        "id": "S4YMSCcK_ISM",
        "colab": {
          "base_uri": "https://localhost:8080/",
          "height": 187
        },
        "outputId": "0f1f3caa-f478-425e-a617-295e96b8f978"
      },
      "source": [
        "from sklearn.metrics import classification_report\n",
        "print(classification_report(Y_test,Y_pred, target_names=iris.target_names))"
      ],
      "execution_count": null,
      "outputs": [
        {
          "output_type": "stream",
          "text": [
            "              precision    recall  f1-score   support\n",
            "\n",
            "      setosa       1.00      1.00      1.00        30\n",
            "  versicolor       0.90      0.86      0.88        22\n",
            "   virginica       0.88      0.91      0.89        23\n",
            "\n",
            "    accuracy                           0.93        75\n",
            "   macro avg       0.93      0.93      0.93        75\n",
            "weighted avg       0.93      0.93      0.93        75\n",
            "\n"
          ],
          "name": "stdout"
        }
      ]
    },
    {
      "cell_type": "markdown",
      "metadata": {
        "id": "uhvWHup_AU7O"
      },
      "source": [
        "**Cross validation**"
      ]
    },
    {
      "cell_type": "markdown",
      "metadata": {
        "id": "_FwHu6YNbdiB"
      },
      "source": [
        "**K- fold cross validation** - as opposed to the normal Hold out method (Train-Test split)\n",
        "\n",
        "* Cross-validation is a resampling procedure used to evaluate machine learning models on a limited data sample. The procedure has a single parameter called k that refers to the number of groups that a given data sample is to be split into. \n",
        "\n",
        "The general procedure is as follows:\n",
        "\n",
        "* Shuffle the dataset randomly.\n",
        "* Split the dataset into k groups\n",
        "\n",
        "For each unique group:\n",
        "* Take the group as a hold out or test data set\n",
        "* Take the remaining groups as a training data set\n",
        "* Fit a model on the training set and evaluate it on the test set\n",
        "* Retain the evaluation score and discard the model\n",
        "* Summarize the skill of the model using the sample of model evaluation scores\n"
      ]
    },
    {
      "cell_type": "markdown",
      "metadata": {
        "id": "ceT3eYFuCVgN"
      },
      "source": [
        "**GridSearchCV**"
      ]
    },
    {
      "cell_type": "code",
      "metadata": {
        "id": "RiGCXhcfCNeL",
        "colab": {
          "base_uri": "https://localhost:8080/"
        },
        "outputId": "663aa7c2-349b-4a59-e73a-3bcefc97c29d"
      },
      "source": [
        "import numpy as np\n",
        "from sklearn.model_selection import GridSearchCV\n",
        "from sklearn import datasets, svm\n",
        "#https://scikit-learn.org/stable/datasets/index.html\n",
        "# Load the digit data\n",
        "digits = datasets.load_digits()\n",
        "print(digits.DESCR)\n",
        "print(digits.data.shape)\n",
        "\n",
        "# View the features of the first observation\n",
        "print(digits.data[500:501])\n",
        "\n",
        "# View the target of the first observation\n",
        "print(digits.target[500:501])"
      ],
      "execution_count": null,
      "outputs": [
        {
          "output_type": "stream",
          "name": "stdout",
          "text": [
            ".. _digits_dataset:\n",
            "\n",
            "Optical recognition of handwritten digits dataset\n",
            "--------------------------------------------------\n",
            "\n",
            "**Data Set Characteristics:**\n",
            "\n",
            "    :Number of Instances: 5620\n",
            "    :Number of Attributes: 64\n",
            "    :Attribute Information: 8x8 image of integer pixels in the range 0..16.\n",
            "    :Missing Attribute Values: None\n",
            "    :Creator: E. Alpaydin (alpaydin '@' boun.edu.tr)\n",
            "    :Date: July; 1998\n",
            "\n",
            "This is a copy of the test set of the UCI ML hand-written digits datasets\n",
            "https://archive.ics.uci.edu/ml/datasets/Optical+Recognition+of+Handwritten+Digits\n",
            "\n",
            "The data set contains images of hand-written digits: 10 classes where\n",
            "each class refers to a digit.\n",
            "\n",
            "Preprocessing programs made available by NIST were used to extract\n",
            "normalized bitmaps of handwritten digits from a preprinted form. From a\n",
            "total of 43 people, 30 contributed to the training set and different 13\n",
            "to the test set. 32x32 bitmaps are divided into nonoverlapping blocks of\n",
            "4x4 and the number of on pixels are counted in each block. This generates\n",
            "an input matrix of 8x8 where each element is an integer in the range\n",
            "0..16. This reduces dimensionality and gives invariance to small\n",
            "distortions.\n",
            "\n",
            "For info on NIST preprocessing routines, see M. D. Garris, J. L. Blue, G.\n",
            "T. Candela, D. L. Dimmick, J. Geist, P. J. Grother, S. A. Janet, and C.\n",
            "L. Wilson, NIST Form-Based Handprint Recognition System, NISTIR 5469,\n",
            "1994.\n",
            "\n",
            ".. topic:: References\n",
            "\n",
            "  - C. Kaynak (1995) Methods of Combining Multiple Classifiers and Their\n",
            "    Applications to Handwritten Digit Recognition, MSc Thesis, Institute of\n",
            "    Graduate Studies in Science and Engineering, Bogazici University.\n",
            "  - E. Alpaydin, C. Kaynak (1998) Cascading Classifiers, Kybernetika.\n",
            "  - Ken Tang and Ponnuthurai N. Suganthan and Xi Yao and A. Kai Qin.\n",
            "    Linear dimensionalityreduction using relevance weighted LDA. School of\n",
            "    Electrical and Electronic Engineering Nanyang Technological University.\n",
            "    2005.\n",
            "  - Claudio Gentile. A New Approximate Maximal Margin Classification\n",
            "    Algorithm. NIPS. 2000.\n",
            "(1797, 64)\n",
            "[[ 0.  0.  3. 10. 14.  3.  0.  0.  0.  8. 16. 11. 10. 13.  0.  0.  0.  7.\n",
            "  14.  0.  1. 15.  2.  0.  0.  2. 16.  9. 16. 16.  1.  0.  0.  0. 12. 16.\n",
            "  15. 15.  2.  0.  0.  0. 12. 10.  0.  8.  8.  0.  0.  0.  9. 12.  4.  7.\n",
            "  12.  0.  0.  0.  2. 11. 16. 16.  9.  0.]]\n",
            "[8]\n"
          ]
        }
      ]
    },
    {
      "cell_type": "code",
      "metadata": {
        "id": "SkbOEf77CeR8",
        "colab": {
          "base_uri": "https://localhost:8080/"
        },
        "outputId": "6e813b46-45bf-4210-d28b-c21eabbc4598"
      },
      "source": [
        "# Create dataset 1\n",
        "data1_features = digits.data[:1000]\n",
        "data1_target = digits.target[:1000]\n",
        "\n",
        "# Create dataset 2\n",
        "data2_features = digits.data[1000:]\n",
        "data2_target = digits.target[1000:]\n",
        "\n",
        "parameter_candidates = [\n",
        "  {'C': [1, 10, 100, 1000], 'gamma': [0.001, 0.0001], 'kernel': ['linear','rbf','poly']}\n",
        "]\n",
        "\n",
        "# Create a classifier object with the classifier and parameter candidates\n",
        "clf = GridSearchCV(estimator=svm.SVC(), param_grid=parameter_candidates, \n",
        "                   n_jobs=-1, cv=20) # change cv to 10 and see\n",
        "\n",
        "# Train the classifier on data1's feature and target data\n",
        "clf.fit(data1_features, data1_target)  \n",
        "\n",
        "# View the accuracy score\n",
        "print('Best score for data1:', clf.best_score_) "
      ],
      "execution_count": null,
      "outputs": [
        {
          "output_type": "stream",
          "name": "stdout",
          "text": [
            "Best score for data1: 0.984\n"
          ]
        }
      ]
    },
    {
      "cell_type": "code",
      "metadata": {
        "id": "h5ZBIAT7Cjm4",
        "colab": {
          "base_uri": "https://localhost:8080/"
        },
        "outputId": "64f4edf0-16aa-433f-e1b6-19915110dbe9"
      },
      "source": [
        "# View the best parameters for the model found using grid search\n",
        "print('Best C:',clf.best_estimator_.C) \n",
        "print('Best Kernel:',clf.best_estimator_.kernel)\n",
        "print('Best Gamma:',clf.best_estimator_.gamma)"
      ],
      "execution_count": null,
      "outputs": [
        {
          "output_type": "stream",
          "name": "stdout",
          "text": [
            "Best C: 100\n",
            "Best Kernel: poly\n",
            "Best Gamma: 0.0001\n"
          ]
        }
      ]
    },
    {
      "cell_type": "code",
      "metadata": {
        "id": "20OBwNKfCpBP",
        "colab": {
          "base_uri": "https://localhost:8080/"
        },
        "outputId": "ac37bd2b-5ecf-4f3f-9323-67729d47cc81"
      },
      "source": [
        "# Train a new classifier using the best parameters found by the grid search\n",
        "svm.SVC(C=100, kernel='poly', gamma=0.0001).fit(data1_features, data1_target).score(data2_features, data2_target)"
      ],
      "execution_count": null,
      "outputs": [
        {
          "output_type": "execute_result",
          "data": {
            "text/plain": [
              "0.9535759096612296"
            ]
          },
          "metadata": {},
          "execution_count": 6
        }
      ]
    }
  ]
}